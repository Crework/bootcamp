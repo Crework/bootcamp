{
  "nbformat": 4,
  "nbformat_minor": 0,
  "metadata": {
    "colab": {
      "name": "Bootcamp Assignment 2: 2 shades of Linear Regression.ipynb",
      "provenance": []
    },
    "kernelspec": {
      "name": "python3",
      "display_name": "Python 3"
    },
    "language_info": {
      "name": "python"
    }
  },
  "cells": [
    {
      "cell_type": "markdown",
      "source": [
        "# Congratulations on Completing Assignment 1🎉🎉\n",
        "\n",
        "Hi Everyone! Hope you all had fun solving Assignment 1 and along with that you are all set to go to to the next part i.e. **Linear Regression**. Now although you might be familiar with it as an algorithm, it's still really easy to skip out on the minute details that go on behind the scenes.\n",
        "\n",
        "Now we understand there might be people saying it's a waste of time to implement an algorithm from scratch but it's actually quite the opposite. If I explain you how to drive a car then you might understand the concept but the only way to understand is by driving it yourself.\n",
        "\n",
        "Now that we have the stuff sorted out let's go ahead and see 2 shades...\n",
        "\n",
        "Ahem, we mean 2 ways to implement Linear Regression i.e.:-\n",
        "\n",
        "* Ordinary Least Squares\n",
        "* Gradient Descent"
      ],
      "metadata": {
        "id": "VONMf8wXBd9l"
      }
    },
    {
      "cell_type": "markdown",
      "source": [
        "## Loading the Dataset"
      ],
      "metadata": {
        "id": "6VvFREAXG6a3"
      }
    },
    {
      "cell_type": "markdown",
      "source": [
        "Before Diving in let's get our data prepared. We'll be working on boston dataset present in [`sklearn.datasets.load_boston`](https://scikit-learn.org/stable/modules/generated/sklearn.datasets.load_boston.html) or if you want to download the csv you can go [here](https://www.kaggle.com/fedesoriano/the-boston-houseprice-data). This will be our first task i.e. to load this dataset.\n",
        "\n",
        "One tip I'll give is to play around with the data and get familiar with the format, the features it has and what new feature can be created. It might not being helpful for this assignment but it's a good habit to adapt to."
      ],
      "metadata": {
        "id": "YR2Cd831xOLw"
      }
    },
    {
      "cell_type": "markdown",
      "source": [
        "**Q. Load the boston house price dataset and, split it into training set and test set with 8:2 train-to-test ratio. Apply necessary pre-processing steps if any.**"
      ],
      "metadata": {
        "id": "r3fXc0VR2Ccm"
      }
    },
    {
      "cell_type": "code",
      "source": [
        "# YOUR CODE"
      ],
      "metadata": {
        "id": "JeDMW1p1xNEm"
      },
      "execution_count": null,
      "outputs": []
    },
    {
      "cell_type": "markdown",
      "source": [
        "# Shade 1: Ordinary Least Square\n",
        "\n",
        "In the most over simplified statement Linear Regression is basically fitting a line in a curve. Which it true, sometimes. I guess it's more apt to say **Linear Regression fits a hyperplane in the given data set**. While we can dive down more on mathematical jargons let's move ahead and see the equation of this hyperplane:-\n",
        "\n",
        "![image.png](data:image/png;base64,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)\n",
        "\n",
        "Well if we take xₒ = 1 it can be written as:-\n",
        "\n",
        "![image.png](data:image/png;base64,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)\n",
        "\n",
        "Out aim is to find out the weight matrix i.e. [wₒ,...,wₙ]. To do that that one very straight forward way available is to just use OLS equation and get the matrix. The formula for OLS is pretty straight forward:-\n",
        "\n",
        "![image.png](data:image/png;base64,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)\n",
        "\n",
        "Simpler the better! Now that we know the formula let's go ahead and implement it outselves. One thing you should remember is that we are taking xₒ = 1 that means we'll need to add one more column to the data with all the rows as 1. You can do that by using `np.concatenate` if it's a numpy array or `df['new_col'] = 1` if it's a dataframe."
      ],
      "metadata": {
        "id": "wiH_A2k-SkMh"
      }
    },
    {
      "cell_type": "markdown",
      "source": [
        "**Q1. Complete the following function to implement OLS from scratch.**"
      ],
      "metadata": {
        "id": "GmU2WbyiMW3J"
      }
    },
    {
      "cell_type": "code",
      "source": [
        "def get_coeff_using_OLS(X, Y):\n",
        "    # YOUR CODE\n",
        "    pass\n",
        "\n",
        "weights = get_coeff_using_OLS(x_train, y_train)"
      ],
      "metadata": {
        "id": "pzPjcjzY_m73"
      },
      "execution_count": null,
      "outputs": []
    },
    {
      "cell_type": "markdown",
      "source": [
        "Noice! Now that you have the weights you need to use them to predict the values for a datapoint. It's important to note that both **X** and **W** are basically matrices hence if you want to get the hyperplace i.e. f(x), then you can just apply matrix multiplication to do so.\n",
        "\n"
      ],
      "metadata": {
        "id": "7Gj19QToMoJu"
      }
    },
    {
      "cell_type": "markdown",
      "source": [
        "**Q2. Complete the following function to predict the values for `x_test` using the above calculated weights.**"
      ],
      "metadata": {
        "id": "p7Ilaiw2NXJZ"
      }
    },
    {
      "cell_type": "code",
      "source": [
        "def predict(X, W):\n",
        "    # YOUR CODE\n",
        "    pass\n",
        "\n",
        "y_preds = predict(x_test, weights)"
      ],
      "metadata": {
        "id": "TWMb-XvzNh0P"
      },
      "execution_count": null,
      "outputs": []
    },
    {
      "cell_type": "markdown",
      "source": [
        "Awesome! We are almost done all that is left is to find the error. It's obvious that predictions and ground truth values can't be the exact same there would be some difference between them. Hence you need to find the RMSE score for it. \n",
        "\n",
        "You can use `sklearn.metrics` to calculate it. I know, we are very generous 😊."
      ],
      "metadata": {
        "id": "89HGkHTeNxlD"
      }
    },
    {
      "cell_type": "markdown",
      "source": [
        "**Q3. Complete the following function to find the RMSE score for the given predictions.**"
      ],
      "metadata": {
        "id": "OSmI7DtoOy7T"
      }
    },
    {
      "cell_type": "code",
      "source": [
        "def evaluate(y_test, y_preds):\n",
        "    # YOUR CODE\n",
        "    pass\n",
        "\n",
        "evaluate(y_test, y_preds)"
      ],
      "metadata": {
        "id": "A3oN7Ml4NxLV"
      },
      "execution_count": null,
      "outputs": []
    },
    {
      "cell_type": "markdown",
      "source": [
        "Great you're all done with implementing OLS from scratch! Now just one more step 🥲. I swear it's the last one, just use the above functions and implement them under a class for everyone to use. I mean does sklearn give you functions individually? No, right? So it's only fair that you do the same thing as them implement via classes 😏."
      ],
      "metadata": {
        "id": "CVYxojujReyc"
      }
    },
    {
      "cell_type": "markdown",
      "source": [
        "**Q4. Combine all the above functions and complete the class `OLSRegressor`. Also train and test it out on the given dataset.**"
      ],
      "metadata": {
        "id": "uxt0Yk9QRH5W"
      }
    },
    {
      "cell_type": "code",
      "source": [
        "class OLSRegressor:\n",
        "    def __init__(self):\n",
        "        \"\"\"\n",
        "        OLSRegressor class for training linear regression model\n",
        "        based on the provided training data.\n",
        "        \"\"\"\n",
        "        pass\n",
        "    \n",
        "    def fit(self, X, Y):\n",
        "        \"\"\"\n",
        "        Perform OLS to find out the model coefficients.\n",
        "        \"\"\"\n",
        "        pass\n",
        "    \n",
        "    def predict(self, X):\n",
        "        \"\"\"\n",
        "        Predict the value via the trained model.\n",
        "        \"\"\"\n",
        "        pass\n",
        "\n",
        "    def score(self, y_true, y_pred):\n",
        "        \"\"\"\n",
        "        Evaluate the predictions and return the RMSE Score.\n",
        "        \"\"\"\n",
        "        pass"
      ],
      "metadata": {
        "id": "vTR2x2f-9uYy"
      },
      "execution_count": null,
      "outputs": []
    },
    {
      "cell_type": "code",
      "source": [
        "# Testing the class\n",
        "reg = OLSRegressor()\n",
        "reg.fit(x_train, y_train)\n",
        "\n",
        "y_pred = reg.predict(x_test)\n",
        "print(f'RMSE Score: {reg.score(y_test, y_pred):.4f}')"
      ],
      "metadata": {
        "id": "-he3R8ayRosc"
      },
      "execution_count": null,
      "outputs": []
    },
    {
      "cell_type": "markdown",
      "source": [
        "# Shade 2: Gradient Descent"
      ],
      "metadata": {
        "id": "RTy6NG7gSori"
      }
    },
    {
      "cell_type": "markdown",
      "source": [
        "Congratulations! You just created your first algorithm from scratch, now that we've done that let's move ahead and tame the bigger beast i.e. **Gradient Descent**. \n",
        "\n",
        "To keep it simple for you we'll be implementing **Simple Linear Regression** with 1 feature column and a target column. So let's understand the steps to train.\n",
        "\n",
        "However, finding a real life dataset with one feature is a tricky task. So it's the perfect time to get to familiar with [`make_regression`](https://scikit-learn.org/stable/modules/generated/sklearn.datasets.make_regression.html) a way to generate synthetic data for regression. For generating classification data we have something called [`make_classification`](https://scikit-learn.org/stable/modules/generated/sklearn.datasets.make_classification.html#sklearn.datasets.make_classification). \n",
        "\n",
        "```python\n",
        "from sklearn.datasets import make_regression\n",
        "\n",
        "x, y = make_regression()\n",
        "```\n",
        "\n",
        "It's actually pretty straightforward to use, but couple of parameters you should know about are:-\n",
        "\n",
        "* **n_samples:** number of data-points.\n",
        "* **n_features:** number of features."
      ],
      "metadata": {
        "id": "r-ODK9S_2waR"
      }
    },
    {
      "cell_type": "markdown",
      "source": [
        "**Q. Generate the data with 1000 datapoints and 1 feature then, split it into training set and test set with 8:2 train-to-test ratio.**"
      ],
      "metadata": {
        "id": "QaC9Bzt57PRe"
      }
    },
    {
      "cell_type": "code",
      "source": [
        "# YOUR CODE"
      ],
      "metadata": {
        "id": "nikwfvVa7O9R"
      },
      "execution_count": null,
      "outputs": []
    },
    {
      "cell_type": "markdown",
      "source": [
        "## Understanding Gradient Descent"
      ],
      "metadata": {
        "id": "BCD5zGS1F_gI"
      }
    },
    {
      "cell_type": "markdown",
      "source": [
        "Now that we have the data with us let's see how we can use it to train our model via Gradient Descent. Gradient Descent is actually an optimization that aims to find the local minima of a given function. In our case what we need is to find the following line:-\n",
        "\n",
        "𝚢 = 𝚖𝚡 + 𝚌\n",
        "\n",
        "So our main aim is to find optimal 𝚖 and 𝚌 that minimize our loss. In order to do that we'll follow the steps below:-\n",
        "```\n",
        "1. Randomly intialize 𝚖 and 𝚌.\n",
        "2. Set a Learning Rate. Learning Rate is use to control the speed of convergence.\n",
        "For N Iterations:\n",
        "    For Every point x_i in Training set:\n",
        "        3. Find prediction for x_i.\n",
        "        4. Calculate and Add the the loss of this point to total_loss. \n",
        "    5. Print the SSR(Sum of Squared Residuals) loss. Division with 2 is just to make derivatives easier.\n",
        "```\n",
        "![image.png](data:image/png;base64,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)\n",
        "```\n",
        "    6. Find Partial Derivative of the Loss w.r.t. 𝚖 and c.\n",
        "```\n",
        "![image.png](data:image/png;base64,iVBORw0KGgoAAAANSUhEUgAAAUUAAACPCAYAAABtcMk7AAAABHNCSVQICAgIfAhkiAAAABl0RVh0U29mdHdhcmUAZ25vbWUtc2NyZWVuc2hvdO8Dvz4AAAAtdEVYdENyZWF0aW9uIFRpbWUAV2VkIDEyIEphbiAyMDIyIDExOjEzOjQyIEFNIElTVIOvyhAAACAASURBVHic7Z13WNNX28e/hA1uHEgFxQEunIjYglj1qT6iVoRWpcWWWnkcOGpRi6OIWretLT5aJ9ZVte6B4kAoThB9FAScGIlQQSSAEQIh9/sHV/ISk0ASMgDP57r4g3N+5z73CeT+nfk9RkREYDAYDAYAgGNoBxgMBqM2wYIig8FgVIIFRQaDwagEC4oMBoNRCRYUGQwGoxIsKDIYDEYl6kxQFIvFCAkJwZkzZwztilKWLFmCI0eOGNoNBoB79+4Z2gVGHcXE0A6oytSpU9GgQQN4e3sb2hWlLFq0CKNGjUJpaSkmTJhgaHfeO54/f47bt2/jwoUL2LZtG0pLSw3tEqMOYlQXNm9v3LgRhw8fxsWLF2FiUrvjeF5eHnr16oXjx4+jb9++hnbnveLx48fIy8sDn8/HiBEjUF5ebmiXGHWQGgfFoqIiJCUlQSwWw9XVFY0aNdKWbwCAZ8+ewcXFBQkJCejSpYtWbeuK7du349dff8WdO3dqfRCvj1y+fBlDhw5lQZGhETUKilu2bEFycjIGDx4MoVCIyMhIjBw5EjNnzlRaJiQkBDk5OTA3N4eRkRHKyspgZGSE2bNno0ePHnLPT5w4EUKhEAcPHtTUTb1TWlqK9u3bIzw8HJMmTTK0O3onKSkJiYmJ8PPzg42NDaKjo5GVlQVHR0d8/PHHOq+fBUVGjSANOXv2LM2fP18mraSkhFxcXGjv3r1Vlk1KSiIA5OvrS2/fvlX6XHZ2NpmamlJ0dLSmbhqMefPmUZcuXQztht4pKCigjRs3UlRUFHl7e9OqVauIx+MREZGnpydduXJF5z7ExMQQh8PReT2M+onGq88bNmzA+vXrUVJSIk0zNzdHUFAQFi9eDKqiA3r37l0AwIQJE2Bpaan0uf3798PCwgKDBg3S1E2D8emnnyItLQ23bt0ytCt65fTp0/D19UV2djaSk5MxdepUfPDBBwCApk2bIiUlxcAeMhhVo/GE18SJEzFmzBhYWFjIpDs5OSEjIwNpaWno2rWrwrJxcXEwMjKCl5dXlXWcPXsWbm5uMDMz09RNg9GvXz9YWlri3LlzcHV1NbQ7emPQoEGwtbVFXFwcAgICpHPMRITExETMnTtXYTk+n4/g4GCVh7xhYWHo3Lmz1vxmMCRoHBT9/f0BVCy08Hg8tGnTBg0bNoRAIAAAcLlcpUExNjYW3bt3R/PmzZXaJyLcuHEDQUFBmrpoUExNTeHs7Ixr164Z2hW9YmdnB6Dib7xjxw5pemJiIoRCIdzd3RWWa9y4MRYsWKByUOzQoUPNnWUwFKBxUHz8+DFCQ0Nha2uLAQMG4Pjx43B0dEROTg6AiqG0IjIyMsDlchEcHFylfS6Xizdv3sDBwUHpM/Hx8bh69Sqys7Oxdu1aZGZm4uTJk+BwOLh//z5CQkLg5OSEQ4cOgcfj4fXr17C2tkZoaKhabc3OzsaePXsAAAUFBQgLC8OxY8fwzz//ICcnB9OmTZMOESvj4OCA5ORkteqqD2RkZCA7OxsffvihNO3AgQMYO3YsTExMcOXKFXh4eMiUMTIyUvoSZTD0iiYTkTExMdSsWTO6cOGCTPrKlSvJ29ubANDDhw8Vlo2MjCQAdPjw4SrruHr1KgGgffv2KcwXiUQUGhpKRET9+/enKVOm0Pr166m8vJyIiCIiIsjd3Z3WrVtHKSkp0nIODg506tQplduan59P8+bNo9LSUiIiCggIoOHDh1N0dDSlp6eThYUFrVy5UmHZgIAAMjU1Vbmu2kZSUpJG5Xbu3EkDBgyQSevQoQNdunSJsrOzq12IqykXL14kIyMjndbBqL+ovdDC5XLh6+uLadOmYejQoTJ5/fv3x5kzZ2BjY4OOHTsqLB8bG6vSfGJRUREAwMrKSmH+tWvXpL2NZ8+eobCwEHPmzAGHU9EkExMTJCYm4qOPPkK3bt2k5YyNjfHkyRPVGouKjeMLFiyAqakpAMDMzAz//PMPPvnkEzRs2BCBgYHSqYR3ady4McrKyiAUClWuz5CIxWLk5eXh8uXL8PPzg6+vr0Z2EhMTMWzYMJm0Xr16ISsrC3v27MG4ceO04a4ct2/fRnh4ONasWQNra2tMnjwZ4eHhKCgo0El9jPqJ2sPnsLAwFBQUYPr06XJ5koDk7e0NIyMjheWrm08UCASwtraucvUaqFjJdHV1RVpaGl6+fImQkBCZ/Nu3b2PAgAEyc1ivX78Gl8uFs7NzlbYrM2LECDRu3FjGruRlYGdnh02bNikta2xsrHI9tQEul4tNmzbBxcVF+hLQhGXLlqFhw4YyaQcPHkRGRgbat28v/T/RNn369EGfPn10Ypvx/qDWf2dJSQkOHz6MPn36wNbWVi7/xo0bACpWphXx7NkzcLncKrfYLFu2DACkX6rKW34q0717d1haWiI2NhZNmjRBz549ZfLj4+PleqPR0dEwMzODp6en0vrfpfKXjM/n4969eypvESouLoapqanS+dXahqOjI9auXYuJEyfW6GSSjY2N3I4BY2NjdOzYUWcBkcHQFmr9h2ZkZEAgEMhMoEsgIuzatQvu7u4YMmSIwvKxsbEAoDSo/P3333BxcQEA6cKFZOFGGXFxcfDy8pL5suXk5ODBgwdy9Rw6dAjDhw+HtbU1xGJxlXaV+QdAJqhWtVr66tUrhS+P94mIiAgYGRnp5Wfy5MmGbi6jHqBWUJTM7ylaEY6OjsbTp08RERGhtLxkf+LAgQPl8kpLS7FkyRL4+PhI67CysgKXy63Sp9jYWDl7ly9fhpmZGT766CNpWl5eHqKiovDFF18AAJYuXSrNe/nypdJN1snJydI5wYsXL6Jnz54yvaglS5Yo9Y3L5crMZ76PjBs3Tub/xcfHBzweT+WfzMxMPH36FOnp6bh58yaioqKwdetWzJo1C3379pWZotizZw+ys7MN0UxGfULdlRk3NzcKCgqSScvNzSUnJyfaunWr0nJisZgcHBzIxcVFLo/H49Hw4cMpMDBQJn3w4ME0dOhQpTZTU1MJAN26dUsm/T//+Q95enrKpEVHR5OZmRkVFxcTj8ejiIgIaV7Pnj0JgNyq9KlTpwgA7d27lwQCAXXs2JHGjBkjzb906RIdPXpUoW9lZWVkaWlJS5YsUep/bSYoKIjatWunFVtJSUlkZWVFAAgAbd68WSt2iYhev35Nq1evpjZt2hAAmjdvntZsM95P1A6KDx8+pK5du9LKlSspPj6eIiMjydPTk/766y+Fz+fk5NDkyZPJy8uLANAHH3xAkyZNom+//Za+/PJL8vT0JBMTEzIyMqLY2FiZsmvWrKEGDRpIt8O8y759+6h169YkEolk0l1dXWn58uUyabm5udShQwc6duwYhYaGklAolOYFBASQjY0NzZ49W6ZMUlISOTs706lTp2j+/PmUkpJCnp6edOLECdq8eTNt27ZN6ed08+ZNAkAJCQlKn6nNaDMoEhHt37+fjIyMCACZmppSXFyc1mwTVZy7//7776lRo0aUn5+vVduM9wuN9ikKhUI6ffo0bdq0iaKiokggEGjbLyIievHiBRkbG9P58+cV5r99+5aysrLk0p89eyYT9CQUFhZSamqqdC9jZYRCoZzABVHFPsV79+5RWVkZEVX0AO/du0evX7+u0vdFixZRly5dSCwWV/lcbUXbQZGIaP78+dLeYsuWLYnL5WrVPlHFXlll+0YZDFXQWCVHX/j7+9P48eN1Xs/58+eV9nbVpaysjOzt7en333/Xij1DoIugWF5eTv/+97+lgbF37946eaGGhISo/DJauXIlnTt3Tus+MLTLn3/+STt37tRLXbV+f0R4eDhOnz6N1NRUndVRXl6OP//8E6NHj9aKvT179sDa2vq91FKsCg6Hg/3790v3id65c0cnn9HatWuV7pOtzKxZs9C4cWO5jeaM2sf48ePx6NEjrFu3TveV6SX01pD169fTkCFDdDYU3blzJ925c0crtv755x9ycHCgmzdvasWeodBFT1FCeno6NW7cWNpjNMRwNzIykr766iu918vQHLFYTP/617+UTqdpizoRFImIAgMD6aeffjK0G1VSWlpKXl5eeuvm65LAwED64IMPdGb/9OnTxOFwCABxOBw6c+aMzup6l5ycHLK1taWXL1/qrU6GdkhJSaE2bdpUKU5dU2r98FnCtm3bkJubi5MnTxraFaUsX74c33zzDQIDAw3tikbw+XxMmzYNgYGBOHv2LIqKiuDj44Pp06fj+vXrWq3L29sbP/30E4CKM9f+/v548OCBVutQxpo1azB69Gi0bNlSL/UxtEe3bt3g4uKCLVu26KyOOnGbH6P+MmHCBBw4cAAA4OzsjJs3b8qcNdc25eXlsLW1xYEDB5SevGLUbnbv3o1Vq1bpbJ2BBUWGQXn79i08PDxw584dABUCHKdOndLZGem///4bQ4cORWFhoZxqfH5+Pnbu3Akej4exY8fKHOdMTEzE//73P4McJdSmbqim2qD6ori4GFu3boVAIECDBg1ARJg2bZqMQElmZiYcHBzw8OFDdOrUCYCW26WzgTmjRuzfv59Gjx6t9s/nn3+us32juoLL5VLLli2lCy8//PCDzupat26d0gvF5s2bR8XFxbRt2zbq16+fTJ6fnx/5+PjozC9laFM3tCbaoPrg0aNH1KNHDzp27BgRVewdnjRpEm3cuFHu2caNG0t1ObXdLoXSYeHh4TWK9gzVCAsLU5rn4eGBZs2aqW3TzMysysvAAO3/fatqhyo4ODjg8OHDGDJkCMrKyrB69Wr07t0bn3/+uZY8/H/S09Nhb28vl37r1i24uLjAwsIC8fHxMp89ESEuLg6LFi3Suj/V8a5uaIcOHTBnzhxpvkQ39JdffqlWN7QqbdCsrKwqtUF1DZ/Px7BhwzB58mSMGTMGAJCQkIAdO3YovN7Y3t5eOget7Xaxm9prKfb29gq/vPUVT09P/Pbbb5g6dSo4HI7OtCj5fD4aNGggl25paQlfX18IBAIcPXpURiczNTUVubm5at1ZfejQIbXEjIEKkebBgwfLpGlTN7Qm2qCK0FYbgQqBllevXslcU+Lh4YHs7GyFSlMNGjQAn88HoP12KQyKNX3zM2o3tfXv265dOxgbG2PTpk0aq36rgiK5N0kv68CBAxCLxRg7dqw0LzY2FjY2NujevbvKdYhEIpSWltbYL0mdVemGvvtZKdMNVaQNKtEv1QRttbG8vBw7duzAsGHD5F5YyqT3ysrKpBv0td0u1lOspXC5XI3uSDY3N8eQIUNUOtFRm7h+/Tr8/PywbNkynd7g2LRpU6SlpSnNP3PmDAYPHgxra2tpmkSzU53PVNvD0JrohipatFKmDapOD11bbczMzERhYaFCnVZl5ObmomnTpnLp2mgXC4q1lOvXr+Ovv/5Su5y5uTk+/PBDpXfb1EZSUlLg7e2NKVOmqH3Toro4OTlJvziKuH//vsxxT0POJ1YmNjYW8+bNk0mrSjd03759ACqGpRLNz+TkZDg5OcHc3FypNui7PSyBQAA+n6/TFWmJD23atJHLIyKkpqbK6ZLm5uZKpwe03q6arhgxGDXhyZMnZGdnR4GBgXpRFIqLiyMOh6NUXmzYsGEyJ6eOHDlCAOjevXs6900Z2tAN1VQb9Ouvv65S01RbeHl50erVq2XSSkpKaMGCBXT37l2Z9PT0dAJAjx8/1km76kRPsaioCElJSRCLxXB1da3R/SGM2oNkhdDNzQ3btm3Ty5D/o48+QtOmTREfH49Ro0bJ5S9cuBAhISHo3bs3Hj58iJMnT6J58+YK5xP10YsCKoQzWrdujV69esmkJyUlSVdqJfTp0wf29vY4d+4cEhISpL1EOzs7ODs7o3Hjxli6dCmOHz+OqVOn4uTJk8jKyoKJiQm+/fZbubqXLVsmd9+OLoiMjMSUKVPQqlUrODg4ICUlBfn5+Zg6dapcD/LixYvo1q0bOnTogIKCAq23q9Zv3t6yZQuSk5MxePBgCIVCREZGYuTIkZg5c6ahXatXxMfHIy4uDi9fvsS6devA4/Fw8uRJGBsbIyUlBXPnzpVulNUGfD4fgwYNQrNmzRAVFSW3kVqXzJ8/H3l5edi+fbvC/Ddv3uDJkyfo2LEj/Pz80KJFC+zevVvuucDAQPB4PFy4cEGn/hYXF4PP56N169Yy6VwuF61bt5b7chcVFYHH48HZ2VlmPpHP5yMzMxNdunSBiYkJRCIR0tLS0KZNG4Xzc/qGiJCWlgaxWAxHR0eZed3KDB8+HCNGjJDGAK23q6bdXl1y9uxZOeHXkpIScnFx0fmF6u8TIpFI+jm7u7sr3CA8cOBArdUnEAjIw8ODXF1dqbCwUGt2JRw+fLjKoXhOTg61bNlSTqA4ICBAZuj14MEDsrKykhu+ScjMzKy3ohL5+fm0e/durSuk15SbN2+So6OjxgcUVGlXrQ6Kw4YNIxMTEyouLpZJj4iIIEdHxzqral3biIuLk6rUtGrVivz9/WXyt2zZQnZ2dlqpq7S0lEaMGEGdO3emnJwcrdiszI0bN1QSJd6zZw9NmDBBJs3e3p5++eUXIqp4+Q4cOJB2796tdR9rOyKRiFasWEFlZWXUunVr4vP5hnaJiCpEigcPHqyxdJiq7arVKjkTJ05ERESE3NDKyckJGRkZVW6tYKhOs2bN8PHHHyvdIHznzh04OTnVuB6xWIzAwECkpKTg/PnzaNGiRY1tVubu3bsYPXo0pkyZUu2zX375JWxtbfH7779L0xYvXgwOh4MtW7Zg+vTpWL58OQICAuTK8vl87Nmzp8pV7LrM8ePH4evriydPnqCwsFAvc4qqMHfuXAwfPhz/+te/NCqvcrtqErn1heRuFclQ6+jRowSAoqKiDOxZ/WLTpk3UpEkTmTtsJLcwrlixosb2g4ODqUWLFpSenl5jW5XJy8ujsLAwsrCwoG7duqlVdu3atRQdHS39XSgUVtkzqq29KG3y4sULIqq4Z+jLL780sDcVHDp0iH799dca2VC1XbV69fnx48cIDQ2Fra0tBgwYgOPHj8PR0RE5OTkAKvbkSdCmksj7iqINwjdu3MDz58/h5+cHAEo3A1fHkiVL8McffyAmJkbu+Jm6FBQU4OHDh0hKSsKlS5dw5swZFBcXAwCmTZumlq13e8VmZmZV9oxqay9Km9jZ2aG8vBx//PEHdu3aZWh3AACfffZZjW2o2q5aGxQvX74MPz8/HDx4UHqOEQBWrVqFK1euAID0bHB5eTnOnj2LFStWwN3dHbNmzUKnTp0we/ZscDgcbNy4EV999RX8/PwwfPhwqdBA27Zt4eLigpEjR+q/gbUQRRuE9+3bBzc3N3Tq1Al37txBZmam2nfZREREIDw8HC1atMDUqVPV9ktynOzNmzfIy8uDQCBQ+FyjRo0UDne1yYABA2BnZ4fFixfDx8enWvGNusrFixfB4XAwaNAgXL16VWaDeF1GpXbVqD+qI549e0ZNmzalRYsWyeXFxMQQALKxsZEutPz9999VLhRs3ryZjI2N6fr16zLpjo6OtGHDBh21om6hbINw7969pbJLP/74I5WUlKhlNyYmRnrtgK5/pk+frrXPoypEIhHZ29vTpUuX9FKfIQgODpZKuP38888G9kZ7qNKuWtlTDAsLQ0FBAaZPny6XJxm6eXt7Szf7alNJ5H1F2QbhESNG4MWLF9iwYQMGDRokM2WhCh9//LFCEYC6TH3tRVXGxcUF6enp+O233+Dj42Nod7SGSu3SZ5RWheLiYrK2tiZXV1eF+atWrSIAdPHiRbk8RQsFRESdO3emhQsXyqTt37+fLCws6M2bN9pzvg7z9u1buX17ElJTU5Uei3sfqa+9qHd5+vSpTi+IMhTVtavWbcnJyMiAQCBQqJhBRNi1axfc3d0V3q9REyWR9x1LS0u5ExMSunTpgiZNmmhkVyAQ4MWLFzVxTW2SkpJw7tw5qd6etnFxcYFQKKx3vah3cXR0rJdzptW1q9YFRYm6i4ODg1xedHQ0nj59ioiICIVlY2NjMXDgQJm0qpREvvjiCwAVSiIM3RAcHIyvv/5aL3UVFhbCz88PBQUF6NatGxYuXIgTJ05ovZ6goCDMmDEDkydPRrt27bRun2FYat2cYtu2beHm5oaHDx/KpL969QqzZs3Cxo0b4erqKldOMp/o5eUlk3758mW4ubnJvBmSkpIAACNHjsSLFy/QvHlzHbSEAehPUAAAFi1ahCFDhkiVnX/++Wc4OzvDzc1NaS9YUxwdHbVqj1F7qHU9RQDYu3cvrly5It1+s2vXLowdOxY//fST0tvUqlISGTZsmExaZSWR//73vzoVNX3fadOmjV7uVy4pKUFkZKTMtIu5uTlcXFywd+9endfPqD/UWpWc0tJSXLhwAc+fP0e7du3g5eVVpXCqtpREGNqBz+fj1KlTaNu2rdyUhi5ISEhA//79wePxZKS8vv76axQVFeHIkSM694FRP6h1w2cJZmZm8Pb2Vvl5S0tLhZOnbdu2Vfh8w4YN0aVLF439YyinvLwcmzdvxty5c+Hg4IC0tDSlF9xv374djx49Utl2v379pKdrKpOdnQ0AcufkzczM9L7Qw6jb1NqgyKi7qHMUrm/fvmqJtCpb2JBcoPSuUC2Hw1H7ciXG+w0Ligyto85RuN69e2ulTsmdv+9uFC8vL5fmMRiqwIIiQ+sYQlBAchVmSUmJTPrbt2/1stDDqD+woMjQCaoehZsxYwauXbumst2xY8di4cKFcuk9evSAubk5cnJypEIhQMVc47sb9xmMqmBBkaETTp8+jQkTJoDD4SAhIUFpUNywYQNEIpHKdpUNha2srDBhwgTExcWhb9++AAChUIj79+9jx44d6jeA8d5Sa7fkMOo2W7duRXp6Otq1a4fRo0fr5eTH69ev4e/vj6VLl8LJyQkLFiyAm5ub3k7UMOoHLCgydEZGRgZsbW31en5WJBIhLi4Or169goeHh86vH2XUP1hQZDAYjEqwoxwMBoNRCRYUGQwGoxIsKDIYDEYlWFBkMBiMSrCgyGAwGJVgQZHBYDAqwYIig8FgVIIFRQaDwagEC4oMBoNRCRYUGQwGoxIsKDIYDEYlWFBkMBiMSrCgyGAwGJVgQZHBYDAqwYIig8FgVIIFRQaDwagEC4oMBoNRCRYUGQwGoxJ1JiiKxWKEhITgzJkzhnZFKUuWLMGRI0cM7QYDwL179wztAqOOUmeuOJ06dSoaNGgAb29vQ7uilEWLFmHUqFEoLS3FhAkTDO3Oe8fz589x+/ZtXLhwAdu2bUNpaamhXWLUQerExVUbN27E4cOHcfHiRZiY1O44npeXh169euH48ePS+4cZ+uHx48fIy8sDn8/HiBEjUF5ebmiXGHWQGgfFoqIiJCUlQSwWw9XVFY0aNdKWbwCAZ8+ewcXFBQkJCejSpYtWbeuK7du349dff8WdO3dqfRCvj1y+fBlDhw5lQZGhETUKilu2bEFycjIGDx4MoVCIyMhIjBw5EjNnzlRaJiQkBDk5OTA3N4eRkRHKyspgZGSE2bNno0ePHnLPT5w4EUKhEAcPHtTUTb1TWlqK9u3bIzw8HJMmTTK0O3onKSkJiYmJ8PPzg42NDaKjo5GVlQVHR0d8/PHHOq+fBUVGjSANOXv2LM2fP18mraSkhFxcXGjv3r1Vlk1KSiIA5OvrS2/fvlX6XHZ2NpmamlJ0dLSmbhqMefPmUZcuXQztht4pKCigjRs3UlRUFHl7e9OqVauIx+MREZGnpydduXJF5z7ExMQQh8PReT2M+onGq88bNmzA+vXrUVJSIk0zNzdHUFAQFi9eDKqiA3r37l0AwIQJE2Bpaan0uf3798PCwgKDBg3S1E2D8emnnyItLQ23bt0ytCt65fTp0/D19UV2djaSk5MxdepUfPDBBwCApk2bIiUlxcAeMhhVo/GE18SJEzFmzBhYWFjIpDs5OSEjIwNpaWno2rWrwrJxcXEwMjKCl5dXlXWcPXsWbm5uMDMz09RNg9GvXz9YWlri3LlzcHV1NbQ7emPQoEGwtbVFXFwcAgICpHPMRITExETMnTtXYTk+n4/g4GCVh7xhYWHo3Lmz1vxmMCRoHBT9/f0BVCy08Hg8tGnTBg0bNoRAIAAAcLlcpUExNjYW3bt3R/PmzZXaJyLcuHEDQUFBmrpoUExNTeHs7Ixr164Z2hW9YmdnB6Dib7xjxw5pemJiIoRCIdzd3RWWa9y4MRYsWKByUOzQoUPNnWUwFKBxUHz8+DFCQ0Nha2uLAQMG4Pjx43B0dEROTg6AiqG0IjIyMsDlchEcHFylfS6Xizdv3sDBwUHpM/Hx8bh69Sqys7Oxdu1aZGZm4uTJk+BwOLh//z5CQkLg5OSEQ4cOgcfj4fXr17C2tkZoaKhabc3OzsaePXsAAAUFBQgLC8OxY8fwzz//ICcnB9OmTZMOESvj4OCA5ORkteqqD2RkZCA7OxsffvihNO3AgQMYO3YsTExMcOXKFXh4eMiUMTIyUvoSZTD0iiYTkTExMdSsWTO6cOGCTPrKlSvJ29ubANDDhw8Vlo2MjCQAdPjw4SrruHr1KgGgffv2KcwXiUQUGhpKRET9+/enKVOm0Pr166m8vJyIiCIiIsjd3Z3WrVtHKSkp0nIODg506tQplduan59P8+bNo9LSUiIiCggIoOHDh1N0dDSlp6eThYUFrVy5UmHZgIAAMjU1Vbmu2kZSUpJG5Xbu3EkDBgyQSevQoQNdunSJsrOzq12IqykXL14kIyMjndbBqL+ovdDC5XLh6+uLadOmYejQoTJ5/fv3x5kzZ2BjY4OOHTsqLB8bG6vSfGJRUREAwMrKSmH+tWvXpL2NZ8+eobCwEHPmzAGHU9EkExMTJCYm4qOPPkK3bt2k5YyNjfHkyRPVGouKjeMLFiyAqakpAMDMzAz//PMPPvnkEzRs2BCBgYHSqYR3ady4McrKyiAUClWuHhoqygAAFkdJREFUz5CIxWLk5eXh8uXL8PPzg6+vr0Z2EhMTMWzYMJm0Xr16ISsrC3v27MG4ceO04a4ct2/fRnh4ONasWQNra2tMnjwZ4eHhKCgoUKm8WCzGzJkzER4erhP/GLrB19cXv/76q9bsqT18DgsLQ0FBAaZPny6XJwlI3t7eMDIyUli+uvlEgUAAa2vrKlevgYqVTFdXV6SlpeHly5cICQmRyb99+zYGDBggM4f1+vVrcLlcODs7V2m7MiNGjEDjxo1l7EpeBnZ2dti0aZPSssbGxirXUxvgcrnYtGkTXFxcpC8BTVi2bBkaNmwok3bw4EFkZGSgffv20v8TbdOnTx/06dNHo7Ll5eX44osvYGlpqdUvGEP3REZGYsiQIeDz+QgLC6uxPbX+O0tKSnD48GH06dMHtra2cvk3btwAULEyrYhnz56By+VWucVm2bJlACD9UlXe8lOZ7t27w9LSErGxsWjSpAl69uwpkx8fHy/XG42OjoaZmRk8PT2V1v8ulb9kfD4f9+7dU3mLUHFxMUxNTZXOr9Y2HB0dsXbtWkycOLFGJ5NsbGzkdgwYGxujY8eOOguINeW7775DQUEBtm3bpvSFzqidNGrUCNHR0fjjjz+q7KSoilr/oRkZGRAIBDIT6BKICLt27YK7uzuGDBmisHxsbCwAKA0qf//9N1xcXABAunAhWbhRRlxcHLy8vGS+bDk5OXjw4IFcPYcOHcLw4cNhbW0NsVhcpV1l/gGQCapVrZa+evVK4cvjfSIiIgJGRkZ6+Zk8ebJGPu7cuRN//vknIiMj2bHMOkqzZs2wb98+hISESDtnmqJWUJTM7ylaEY6OjsbTp08RERGhtLxkf+LAgQPl8kpLS7FkyRL4+PhI67CysgKXy63Sp9jYWDl7ly9fhpmZGT766CNpWl5eHqKiovDFF18AAJYuXSrNe/nypdJN1snJydI5wYsXL6Jnz54yvaglS5Yo9Y3L5crMZ76PjBs3Tub/xcfHBzweT+WfzMxMPH36FOnp6bh58yaioqKwdetWzJo1C3379pWZotizZw+ys7PV8o/H42HOnDn473//+96/wOo6AwYMwKxZs/DFF1+guLhYc0Pqrsy4ublRUFCQTFpubi45OTnR1q1blZYTi8Xk4OBALi4ucnk8Ho+GDx9OgYGBMumDBw+moUOHKrWZmppKAOjWrVsy6f/5z3/I09NTJi06OprMzMyouLiYeDweRURESPN69uxJAORWpU+dOkUAaO/evSQQCKhjx440ZswYaf6lS5fo6NGjCn0rKysjS0tLWrJkiVL/azNBQUHUrl07rdhKSkoiKysrAkAAaPPmzVqxS0T0+vVrWr16NbVp04YA0Lx589Qq7+fnR3369CGxWKw1nxiGg8/nU/PmzenHH3/U2IbaQfHhw4fUtWtXWrlyJcXHx1NkZCR5enrSX3/9pfD5nJwcmjx5Mnl5eREA+uCDD2jSpEn07bff0pdffkmenp5kYmJCRkZGFBsbK1N2zZo11KBBA+l2mHfZt28ftW7dmkQikUy6q6srLV++XCYtNzeXOnToQMeOHaPQ0FASCoXSvICAALKxsaHZs2fLlElKSiJnZ2c6deoUzZ8/n1JSUsjT05NOnDhBmzdvpm3btin9nG7evEkAKCEhQekztRltBkUiov3795ORkREBIFNTU4qLi9OabaKKc/fff/89NWrUiPLz81Uqc/fuXTIyMqITJ05o1ReGYVm1ahU1aNCAXr16pVF5jfYpCoVCOn36NG3atImioqJIIBBoVHl1vHjxgoyNjen8+fMK89++fUtZWVly6c+ePZMJehIKCwspNTVVupexMkKhUE7ggqhin+K9e/eorKyMiCp6gPfu3aPXr19X6fuiRYuoS5cudbYHou2gSEQ0f/58aW+xZcuWxOVytWqfqGKvrLJ9o+8yfvx4at++fZ39GzEUk5ubS+bm5hqP0jRWydEX/v7+NH78eJ3Xc/78eaW9XXUpKysje3t7+v3337VizxDoIiiWl5fTv//9b2lg7N27t05eqCEhIdUGuvz8fLKwsFD4ImTUfcaNG0cODg4KO0DVUeuD4qNHj6hBgwZ0//59ndUhEokoMDBQYe9SE3bu3EmdO3eW9i7rIroIikQVwcjZ2VkaGPXxwlPEtm3bFM5HM+oH+/btIwB048YNtcvWzk1jlejYsSPCw8Mxc+bMajd0a8ru3bsxc+ZMrajxvHz5EkuWLMEff/zBtncooEmTJjhx4oR0Q/yBAwewatUqvfsRFRWFli1bsisj6imffPIJOBwOoqOj1S5b64MiAMyZMwcODg5YuXKlTuwHBgaiV69eNbZTVlaGcePGYcmSJXBzc9OCZ4ajrKwMZWVlOrHt7OyMffv2SfeWLly4EFFRUTqpSxFisRhxcXFKFXsYdZ/mzZujU6dOOH/+vNpl60RQBIBt27YhNzcXJ0+eNLQrSlm+fDm++eYbBAYGGtoVjeDz+Zg2bRoCAwNx9uxZFBUVwcfHB9OnT8f169e1Wpe3tzd++uknABVByt/fHw8ePNBqHcpIS0vD69ev3yudy/eRnj17IjExUf1rKbQ/mmcwVGf8+PHS+UVnZ2fi8/k6r/PIkSMEgP7880+d18UwHGFhYQSAHj9+rFY5NunFMCg7duzAgwcPcOfOHTx48AD+/v44deqUTs9IP3r0CEDFWe/qyM/Px86dO8Hj8TB27FiZI56JiYn43//+p/HxwpqgTS1RTfVC9UVxcTG2bt0KgUCABg0agIgwbdq0akVLJD4/evRILVFiFhRrKX/++ScOHDigdjkLCwtERkYqlVyrbVhZWeH48ePo168fcnJyEBUVhYULF+ps/hgAsrKyAAAtW7as9tlVq1YhPDwce/fuxffff4+EhARp3po1a1BeXq73oFheXo6zZ89ixYoVcHd3x6xZs9CpUyfMnj0bHA4HGzduxFdffQU/Pz8MHz4cn3/+OQCgbdu2cHFxwciRI6W2+Hw+NmzYgOXLl8PU1BQTJ07Ep59+iu+++w69evVCr1690LBhQ/zwww96baOEx48fw9fXF+Hh4RgzZgxKS0sxbdo0bN26VaFSV2Vat24NAMjMzFSrToVBkenJ6YeqZI48PDzQrFkztW2amZlVeRkYoP2/b03lmhwcHHD48GEMGTIEZWVlWL16NXr37i39MmubN2/eAKhYCa+KW7duwcXFBRYWFoiPj5f5exAR4uLisGjRIp34WBXvaol26NABc+bMkeZLtER/+eWXarVEq9ILzcrKqlIvVNfw+XwMGzYMkydPxpgxYwAACQkJ2LFjh0pXHjdo0ADA//+9VYX1FGsp9vb2sLe3N7QbesPT0xO//fYbpk6dCg6Ho1MtSsmXpDpJN0tLS/j6+kIgEODo0aMyslSpqanIzc1V6x7rQ4cOqSVwDFQINw8ePFgmTZtaojXRC1WEttoIVIi2vHr1SubqEg8PD2RnZ6sk3iG5VE8rQVEbQo2M2ktt/fu2a9cOxsbG2LRpk8aq3+pQnXycpJd14MABiMVijB07VpoXGxsLGxsbdO/eXeX6RCIRSktL1fJR0cqppM6qtETf/fyUaYkq0guVaJpqgrbaWF5ejh07dmDYsGHSHp8EVdWMJPPSpOb+ZtZTrKVwuVyN7kg2NzfHkCFD6pxQ6vXr1+Hn54dly5bp/AZHyZdMMnFfHWfOnMHgwYNhbW0tTZPoeKrzOWt7GFoTLVFFC1nK9ELV6bVrq42ZmZkoLCxUqN2qKhLJP1X+xpVhQbGWcv36dfz1119qlzM3N8eHH35YZxZaACAlJQXe3t6YMmWK2jctaoLkS/L27VuVnr9//z5Gjx4t/d2Q84mViY2Nxbx582TSqtIS3bdvH4CKYalEBzQ5ORlOTk4wNzdXqhf6bs9RIBCAz+frdEVa4kObNm3k8ogIqamp1WqV8vl8ACwo1hvGjx+P8ePHG9oNnfP06VMMGzYMY8aMwdq1a/VSZ2VVd1W25bRs2VLmCOixY8eQk5Oj8rUUukAyn/julRuXL1+Gm5ubzGJbUlISAGDkyJF48eKF9H6k06dPY9SoUdi7dy98fHxw9uxZmemAmJgYhXfeBAcHg8fj4cKFC7poGoAKJW0vLy88ffpUJl0oFGLp0qUqXX4mUe2XrEKrSp0MikVFRUhKSoJYLIarq2uN7hNhGA7JKqebm5te70ZxcnICULHdo3///tU+v3DhQoSEhKB37954+PAhTp48iebNmyucT9RHLwoA7ty5g9atW8sdT01KSpKu1Ero06cP7O3tce7cOSQkJEh7iXZ2dnB2dkbjxo2xdOlSHD9+HFOnTsXJkyeRlZUFExMTfPvtt3J1L1u2TCs6AdURGRmJKVOmoFWrVnBwcEBKSgry8/MxdepUhT3Id3n27BkAoFOnTmrVa0TqzkIamC1btiA5ORmDBw+GUChEZGQkRo4ciZkzZxratTpNfHw84uLi8PLlS6xbtw48Hg8nT56EsbExUlJSMHfuXLX/uaqCz+dj0KBBaNasGaKioqQrhfogLS0NXbt2RXh4OH788UeVyrx58wZPnjxBx44d4efnhxYtWmD37t1yzwUGBuq8FwVUbGjm8/lyvSAul4vWrVvLBa2ioiLweDw4OzvLzCfy+XxkZmaiS5cuMDExgUgkQlpaGtq0aYOmTZvqtA2qQERIS0uDWCyGo6OjzLxudYwbNw5Hjx6FQCBQL4hr+WSNTjl79qyc/l1JSQm5uLjo/IL1+oxIJJJ+ru7u7jRlyhRav369VIsuIiKCBg4cqLX6BAIBeXh4kKurKxUWFmrNroTDhw9XqacoEomoadOmNHbs2GptBQQEyFxB8eDBA7KysqK7d+8qfD4zM5NevnypvtN1gPz8fNq9e7fWVdN1RYcOHcjd3V3tcnUqKA4bNoxMTEyouLhYJj0iIoIcHR2ZgrKGxMXF0ZkzZ4iIqFWrVuTv7y+Tv2XLFrKzs9NKXaWlpTRixAjq3Lkz5eTkaMVmZW7cuKGSRuNnn31GNjY21YqQ2tvb0y+//EJEFS/ggQMH0u7du7Xia11CJBLRihUrqKysjFq3bq2XM+o14eXLlwSAQkND1S5bZ1RygIr7pCMiIuSGWk5OTsjIyEBaWpqBPKvbNGvWDB9//LHSzcB37tyRzsPVBLFYjMDAQKSkpOD8+fNo0aJFjW1W5u7duxg9ejSmTJlS7bOffPIJ8vLycO/evSqfW7x4MTgcDrZs2YLp06dj+fLlCAgIkHuOz+djz5490m0t9Y3jx4/D19cXT548QWFhoV7mFGuCREdx+PDh6hfWQZDWOZK7ViRDr6NHjxIAioqKMrBndZtNmzZRkyZNZHpPklsYV6xYUWP7wcHB1KJFC0pPT6+xrcrk5eVRWFgYWVhYULdu3VQq888//5CpqSmFh4dX+6xQKKyyZ1TXelGa8OLFCyKquHvoyy+/NLA31TNq1CiNR491avX58ePHCA0Nha2tLQYMGIDjx4/D0dFRuvSu6NiWpgob7yOKNgPfuHEDz58/h5+fHwAo3fhbHRI18piYGLmjZupSUFCAhw8fIikpCZcuXcKZM2ek9/xOmzZNJRutWrXCqFGjsH37dixcuLDKDcpmZmZV9ozqWi9KE+zs7FBeXo4//vgDu3btMrQ7VVJQUIDz588jNDRUsx0N2o/RuiEmJoaaNWtGFy5ckElfuXIleXt7EwB6+PChTN6jR4+oR48edOzYMSKqeONPmjSJNm7cqDe/6xKtWrWi9evXy6RNnz6d3NzciIjo9u3bGl0H+ttvvxEAatGiBbm6uqr906tXL+ratSs5ODiQtbW1VH/x3Z9GjRqptXBz/fp1AkAnT55Uu02VqWu9KE05d+4ctW3blsrLy+nKlSuGdkcpq1evpkaNGun3ilN98+zZM2ratCktWrRILi8mJoYAkI2NjUxXOT8/n9q3by9z3WV8fDwBoIMHD+rF77pEamqqwoucevfuLf0Mf/zxRyopKVHLbkxMDHE4HKWBTJs/06dPV7vdo0aNInd39xov0olEIrK3t6dLly7VyE5tJjg4mH744QciIvr5558N7I1i3rx5Qy1atKDFixdrbKNOBMWvvvqKOBwOZWdny+XFxsYSAJo4caJM+nfffUeNGjWioqIimXRFNhgVt5+1bt2aRCKRTPrChQspODiYfvnlF4qJiTGQd7rjyZMnZGVlRdu3b6+RnbrSi6oJW7Zsoe+++45+/fVXysjIMLQ7CgkPD6eOHTvW6OrcWh8Ui4uLydramlxdXRXmr1q1igDQxYsXpWkikYgaNWpEn332mb7crPO8ffuWsrKyFOalpqZSfn6+nj3SH1u2bKHmzZtrPNwiqhu9KG3w9OlTevv2raHdUMidO3fI0tKS/v777xrZqfVbcjIyMiAQCBSqZRARdu3aBXd3dwwZMkSarg2FjfcNS0tLpWdEu3TpUq0gqzIEAgFevHhRE9fUJikpCefOnZMKAlRHUFAQPv30UwQEBFQrJ6YMFxcXCIVC/Pbbb/Dx8dHIRl3A0dGxWhFjQ1BUVISAgACsWbNGTh5NXWp9UJSovTg4OMjlRUdH4+nTp4iIiJBJr05h4/79+zrwlKGI4OBgfP3113qpq7CwEH5+figoKEC3bt2wcOFCnDhxQqWyv//+OywsLDBjxgyN7hcPCgrCjBkzMHnyZLRr107t8gzNEQqFGDNmDEaNGiUjSKsx2ui26ho3NzcKCgqSScvNzSUnJyfaunWrwjJeXl60evVqmbSSkhJasGCB0iNaDO2jz2NvM2bMoE2bNkl/LykpobZt2yqdFngXkUhE3377LYWFhenIQ4YuGDdunNyuiZpQJwQhHj16hDFjxiAgIAAeHh54/Pgxdu7ciZkzZ0r3z71LRkYGpkyZAn9/fxmFjW+++UYlhQ1G3aKkpAQtWrTAlStXZJSoR40ahYEDB2Lu3LkG9I5Rl6gTQREASktLceHCBTx//hzt2rWDl5dXtUKqVAOFDUbN4PP5OHXqFNq2bYuBAwfqvL6EhAT0798fPB5PRrbr66+/RlFREY4cOaJzHxj1gzpzosXMzAze3t5qlTEyMkLXrl115BFDGeXl5di8eTPmzp0LBwcHpKWlyVyOVJnt27dL72FWhX79+ikcHWRnZwOA3Ll4MzMzvS/0MOo2dSYoMuoO6hx769u3r1qCrMoWMSSXJb17rIvD4ah9kRLj/YYFRYbWGTBgAOzs7LB48WL4+PhUuYWjd+/eWqlTcpb93ZvhysvL2Tl3hlqwoMjQOoYQD5Bce1lSUiKT/vbtW7Rs2VIvPjDqBywoMnTCxYsXweFwMGjQIFy9elXmdrnKzJgxA9euXVPZ7tixY7Fw4UK59B49esDc3Bw5OTmwt7eXpmdnZxv0gilG3YMFRYZOOH36NCZMmAAOh4OEhASlQXHDhg0QiUQq21U2FLayssKECRMQFxeHvn37AqjY1Hv//n3s2LFD/QYw3lvqzJYcRt1i69atSE9PR7t27TB69Gi9nPJ4/fo1/P39sXTpUjg5OWHBggVwc3PT24kaRv2ABUWGzsjIyICtra1ez8qKRCLExcXh1atX8PDw0PlVo4z6BwuKDAaDUYlaLwjBYDAY+oQFRQaDwajE/wF7OQlR03YPlAAAAABJRU5ErkJggg==)\n",
        "```\n",
        "    7. Update m and c via the following step:-\n",
        "        m -= α*∂/∂m(L(m,c))\n",
        "        c -= α*∂/∂c(L(m,c))\n",
        "    8. Repeat from step 2 for N iterations.\n",
        "```"
      ],
      "metadata": {
        "id": "T5sLuHoQS2bM"
      }
    },
    {
      "cell_type": "markdown",
      "source": [
        "**Q. Given the steps above and your knowledge of classes from previous assignment and inferencing from `OLSRegressor` implement Simple Gradient Descent in the class `GDRegressor`. Also Plot the Loss at each epoch after the training is completed.**"
      ],
      "metadata": {
        "id": "5H_aUDjO0Psg"
      }
    },
    {
      "cell_type": "code",
      "source": [
        "class GDRegressor:\n",
        "    def __init__(self):\n",
        "        \"\"\"\n",
        "        GDRegressor class for training linear regression model\n",
        "        based on the provided training data.\n",
        "        \"\"\"\n",
        "        pass\n",
        "    \n",
        "    def fit(self, X, Y):\n",
        "        \"\"\"\n",
        "        Perform Gradient Descent to find out the model coefficients.\n",
        "        \"\"\"\n",
        "        pass\n",
        "    \n",
        "    def predict(self, X):\n",
        "        \"\"\"\n",
        "        Predict the value via the trained model.\n",
        "        \"\"\"\n",
        "        pass\n",
        "    \n",
        "    def score(self, y_true, y_pred):\n",
        "        \"\"\"\n",
        "        Evaluate the predictions and return the RMSE Score.\n",
        "        \"\"\"\n",
        "        pass"
      ],
      "metadata": {
        "id": "ceCTt0VhSr1F"
      },
      "execution_count": null,
      "outputs": []
    },
    {
      "cell_type": "code",
      "source": [
        "reg = GDRegressor()\n",
        "reg.fit(x_train, y_train)\n",
        "\n",
        "y_pred = reg.predict(x_test)\n",
        "print(f'RMSE Score: {reg.score(y_test, y_pred):.4f}')"
      ],
      "metadata": {
        "id": "s8l_-a2x2o4d"
      },
      "execution_count": null,
      "outputs": []
    },
    {
      "cell_type": "markdown",
      "source": [
        "Congratulations! You've completed implementing your 2nd and a rather tricky algorithm. Now we hope you had fun solving this interesting problem statement. But before leaving let's answer a few question to concrete the learning."
      ],
      "metadata": {
        "id": "f1-75NRoAv6S"
      }
    },
    {
      "cell_type": "markdown",
      "source": [
        "**Q. Compare the performance of you models with sklearn's inbuilt module for Linear Regression.**"
      ],
      "metadata": {
        "id": "vtP4TfEfEjNY"
      }
    },
    {
      "cell_type": "code",
      "source": [
        "# YOUR CODE"
      ],
      "metadata": {
        "id": "mjAw6klAE0jZ"
      },
      "execution_count": null,
      "outputs": []
    },
    {
      "cell_type": "markdown",
      "source": [
        "## Q/A on Linear Regression"
      ],
      "metadata": {
        "id": "QTDookXoEb0l"
      }
    },
    {
      "cell_type": "markdown",
      "source": [
        "**Q1. What is Convergence in Gradient Decent?**\n",
        "\n",
        "**Ans.**\n",
        "\n",
        "**Q2. Explain the effect of Learning Rate on Convergence. Give appropriate proof to support your statement.**\n",
        "\n",
        "**Ans.**\n",
        "\n",
        "**Q3. Explain about stochiastic vs batch vs mini-batch Gradient Descent.**\n",
        "\n",
        "**Ans.**\n",
        "\n",
        "**Q4. Does initializing parameters differently affect convergence of GD? If yes, Why?**\n",
        "\n",
        "**Ans**\n",
        "\n",
        "**Q5. Gradient Descent can help achieve local minima. How can we assure that out model converges on global minima [Without using momentum].**\n",
        "\n",
        "**Ans.**\n",
        "\n",
        "**Q6. Write a breif paragraph explaining Bias, Variance and Bias-Variance Tradeoff. Why is it said that Linear Regression is a High Bias Estimator?**\n",
        "\n",
        "**Ans.**\n",
        "\n",
        "**Q7. How to use Gradient Descent for Linear Regression using sklearn?**\n",
        "\n",
        "**Ans.**\n",
        "\n",
        "**Q8. Explain about 4 assumptions of Linear Regression. Did you validate any before implementing the Algorithms?**\n",
        "\n",
        "**Ans.**\n",
        "\n",
        "**Q9[BONUS]. Explain Residual Analysis for validation of assumptions. What to do if validation fails?**\n",
        "\n",
        "**Ans.**"
      ],
      "metadata": {
        "id": "89NepJz6BJov"
      }
    },
    {
      "cell_type": "markdown",
      "source": [
        "## Bonus Shade: Multiple/Multivariate Linear Regression"
      ],
      "metadata": {
        "id": "khTaAge4ERV_"
      }
    },
    {
      "cell_type": "markdown",
      "source": [
        "**Q[BONUS]. Implement Multiple Gradient Descent and use it to Train and Test on Boston House Price Dataset.**"
      ],
      "metadata": {
        "id": "NENJU0Jm0suw"
      }
    },
    {
      "cell_type": "code",
      "source": [
        "class MultipleGDRegressor:\n",
        "    def __init__(self):\n",
        "        \"\"\"\n",
        "        MultipleGDRegressor class for training linear regression model\n",
        "        based on the provided training data.\n",
        "        \"\"\"\n",
        "        pass\n",
        "    \n",
        "    def fit(self, X, Y):\n",
        "        \"\"\"\n",
        "        Perform Gradient Descent to find out the model coefficients.\n",
        "        \"\"\"\n",
        "        pass\n",
        "    \n",
        "    def predict(self, X):\n",
        "        \"\"\"\n",
        "        Predict the value via the trained model.\n",
        "        \"\"\"\n",
        "        pass\n",
        "    \n",
        "    def score(self, y_true, y_pred):\n",
        "        \"\"\"\n",
        "        Evaluate the predictions and return the RMSE Score.\n",
        "        \"\"\"\n",
        "        pass"
      ],
      "metadata": {
        "id": "zFOtIYOE1e-I"
      },
      "execution_count": null,
      "outputs": []
    },
    {
      "cell_type": "code",
      "source": [
        "reg = MultipleGDRegressor()\n",
        "reg.fit(x_train, y_train)\n",
        "\n",
        "y_pred = reg.predict(x_test)\n",
        "print(f'RMSE Score: {reg.score(y_test, y_pred):.4f}')"
      ],
      "metadata": {
        "id": "RRPMZ7kZ1jd0"
      },
      "execution_count": null,
      "outputs": []
    }
  ]
}